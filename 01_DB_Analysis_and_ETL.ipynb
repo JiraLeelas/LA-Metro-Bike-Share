{
 "cells": [
  {
   "cell_type": "code",
   "execution_count": 138,
   "id": "2c23a893-42d1-41b7-913f-6a5fd6165e58",
   "metadata": {},
   "outputs": [],
   "source": [
    "import os\n",
    "import re\n",
    "import numpy as np\n",
    "import pandas as pd\n",
    "from datetime import datetime\n",
    "from dotenv import load_dotenv"
   ]
  },
  {
   "cell_type": "code",
   "execution_count": 139,
   "id": "98a41765-2711-46ec-acbc-e98051bdc78e",
   "metadata": {},
   "outputs": [],
   "source": [
    "# %pip install mysql-connector-python\n",
    "# %pip install python-dotenv"
   ]
  },
  {
   "cell_type": "markdown",
   "id": "88d0a06f-5aa7-4e6e-815b-c95c5d389c76",
   "metadata": {},
   "source": [
    "### 0. Data Loading"
   ]
  },
  {
   "cell_type": "code",
   "execution_count": 3,
   "id": "0847feb1-bc84-4b09-8d3f-44cd0a75fd78",
   "metadata": {},
   "outputs": [],
   "source": [
    "def getYearDirs(data_dir, year_pat=\"\\d{4}\"):\n",
    "    \"\"\"\n",
    "    Get year subfolder directories of a main data directory.\n",
    "    Regex matches folder in year format (i.e., 4 digits).\n",
    "    \"\"\"\n",
    "    subfolders = [f.name for f in os.scandir(data_dir) if (f.is_dir() and bool(re.match(year_pat, f.name)))] # Get all subfolders\n",
    "    subfolder_paths = [os.path.join(data_dir, f) for f in subfolders] # Create path\n",
    "    return subfolder_paths\n",
    "\n",
    "def getQuarterDatDir(year_dir, fname_pat=\"^metro\\-trips\\-\\d{4}\\-q\\d\"):\n",
    "    \"\"\"\n",
    "    Get quarter data file path from a folder of year.\n",
    "    \"\"\"\n",
    "    files = [f.name for f in os.scandir(year_dir) if (f.is_file() and bool(re.match(fname_pat, f.name)))]\n",
    "    file_paths = [os.path.join(year_dir, f) for f in files] # Create path\n",
    "    return file_paths\n",
    "\n",
    "def getAllData(data_dir):\n",
    "    fpaths = list()\n",
    "    for year in getYearDirs(data_dir):\n",
    "        for path in getQuarterDatDir(year):\n",
    "            fpaths.append(path)\n",
    "    return fpaths"
   ]
  },
  {
   "cell_type": "code",
   "execution_count": 4,
   "id": "4f73f619-7934-4c5a-aa14-589bc64aee0c",
   "metadata": {},
   "outputs": [],
   "source": [
    "### List all the files in the directories\n",
    "data_dir = \".\\\\data\\\\\"\n",
    "files_dir = getAllData(data_dir)"
   ]
  },
  {
   "cell_type": "code",
   "execution_count": 5,
   "id": "6391238b-edb1-4e4d-ad95-221899461919",
   "metadata": {},
   "outputs": [
    {
     "name": "stdout",
     "output_type": "stream",
     "text": [
      ".\\data\\2022\\metro-trips-2022-q1.csv\n",
      ".\\data\\2022\\metro-trips-2022-q2.csv\n",
      ".\\data\\2022\\metro-trips-2022-q3.csv\n",
      ".\\data\\2022\\metro-trips-2022-q4.csv\n",
      ".\\data\\2023\\metro-trips-2023-q1.csv\n",
      ".\\data\\2023\\metro-trips-2023-q2.csv\n",
      ".\\data\\2023\\metro-trips-2023-q3.csv\n",
      ".\\data\\2023\\metro-trips-2023-q4.csv\n",
      ".\\data\\2024\\metro-trips-2024-q1.csv\n",
      ".\\data\\2024\\metro-trips-2024-q2.csv\n",
      ".\\data\\2024\\metro-trips-2024-q3.csv\n",
      ".\\data\\2024\\metro-trips-2024-q4.csv\n"
     ]
    }
   ],
   "source": [
    "for d in files_dir:\n",
    "    print(d)"
   ]
  },
  {
   "cell_type": "markdown",
   "id": "240c5a4b-13e3-4c99-afd1-3806d481da66",
   "metadata": {},
   "source": [
    "### 1. Dataset Analysis from 2022 to 2024"
   ]
  },
  {
   "cell_type": "markdown",
   "id": "a20422af-2ffe-43b4-99b1-bf1ae9c6c38e",
   "metadata": {},
   "source": [
    "#### 1.1 Station Analysis"
   ]
  },
  {
   "cell_type": "code",
   "execution_count": 6,
   "id": "8899b434-b330-4f18-9117-27bdaa807fd9",
   "metadata": {},
   "outputs": [],
   "source": [
    "station_path = \".\\data\\stations\\metro-bike-share-stations-2024-10-01.csv\"\n",
    "station_df = pd.read_csv(station_path, sep=\",\",encoding=\"cp1252\")"
   ]
  },
  {
   "cell_type": "code",
   "execution_count": 7,
   "id": "1c9943f3-4b32-4385-8ba2-d88b636b400b",
   "metadata": {},
   "outputs": [
    {
     "data": {
      "text/html": [
       "<div>\n",
       "<style scoped>\n",
       "    .dataframe tbody tr th:only-of-type {\n",
       "        vertical-align: middle;\n",
       "    }\n",
       "\n",
       "    .dataframe tbody tr th {\n",
       "        vertical-align: top;\n",
       "    }\n",
       "\n",
       "    .dataframe thead th {\n",
       "        text-align: right;\n",
       "    }\n",
       "</style>\n",
       "<table border=\"1\" class=\"dataframe\">\n",
       "  <thead>\n",
       "    <tr style=\"text-align: right;\">\n",
       "      <th></th>\n",
       "      <th>Kiosk ID</th>\n",
       "      <th>Kiosk Name</th>\n",
       "      <th>Go Live Date</th>\n",
       "      <th>Region</th>\n",
       "      <th>Status</th>\n",
       "      <th>Latitude</th>\n",
       "      <th>Longitude</th>\n",
       "    </tr>\n",
       "  </thead>\n",
       "  <tbody>\n",
       "    <tr>\n",
       "      <th>0</th>\n",
       "      <td>3000.0</td>\n",
       "      <td>Virtual Station</td>\n",
       "      <td>7/7/2016</td>\n",
       "      <td>NaN</td>\n",
       "      <td>Active</td>\n",
       "      <td>0.000000</td>\n",
       "      <td>0.000000</td>\n",
       "    </tr>\n",
       "    <tr>\n",
       "      <th>1</th>\n",
       "      <td>3005.0</td>\n",
       "      <td>7th &amp; Flower</td>\n",
       "      <td>7/7/2016</td>\n",
       "      <td>DTLA</td>\n",
       "      <td>Active</td>\n",
       "      <td>34.048500</td>\n",
       "      <td>-118.258537</td>\n",
       "    </tr>\n",
       "    <tr>\n",
       "      <th>2</th>\n",
       "      <td>3006.0</td>\n",
       "      <td>Olive &amp; 8th</td>\n",
       "      <td>7/7/2016</td>\n",
       "      <td>DTLA</td>\n",
       "      <td>Active</td>\n",
       "      <td>34.045540</td>\n",
       "      <td>-118.256668</td>\n",
       "    </tr>\n",
       "    <tr>\n",
       "      <th>3</th>\n",
       "      <td>3007.0</td>\n",
       "      <td>5th &amp; Grand</td>\n",
       "      <td>7/7/2016</td>\n",
       "      <td>DTLA</td>\n",
       "      <td>Active</td>\n",
       "      <td>34.050480</td>\n",
       "      <td>-118.254593</td>\n",
       "    </tr>\n",
       "    <tr>\n",
       "      <th>4</th>\n",
       "      <td>3008.0</td>\n",
       "      <td>Figueroa &amp; 9th</td>\n",
       "      <td>7/7/2016</td>\n",
       "      <td>DTLA</td>\n",
       "      <td>Active</td>\n",
       "      <td>34.046612</td>\n",
       "      <td>-118.262733</td>\n",
       "    </tr>\n",
       "  </tbody>\n",
       "</table>\n",
       "</div>"
      ],
      "text/plain": [
       "   Kiosk ID       Kiosk Name Go Live Date Region   Status   Latitude  \\\n",
       "0    3000.0  Virtual Station     7/7/2016     NaN  Active   0.000000   \n",
       "1    3005.0     7th & Flower     7/7/2016    DTLA  Active  34.048500   \n",
       "2    3006.0      Olive & 8th     7/7/2016    DTLA  Active  34.045540   \n",
       "3    3007.0      5th & Grand     7/7/2016    DTLA  Active  34.050480   \n",
       "4    3008.0   Figueroa & 9th     7/7/2016    DTLA  Active  34.046612   \n",
       "\n",
       "    Longitude  \n",
       "0    0.000000  \n",
       "1 -118.258537  \n",
       "2 -118.256668  \n",
       "3 -118.254593  \n",
       "4 -118.262733  "
      ]
     },
     "execution_count": 7,
     "metadata": {},
     "output_type": "execute_result"
    }
   ],
   "source": [
    "station_df.head(5)"
   ]
  },
  {
   "cell_type": "code",
   "execution_count": 8,
   "id": "8bb18e80-738b-4347-ba73-3087556be35d",
   "metadata": {},
   "outputs": [
    {
     "name": "stdout",
     "output_type": "stream",
     "text": [
      "<class 'pandas.core.frame.DataFrame'>\n",
      "RangeIndex: 428 entries, 0 to 427\n",
      "Data columns (total 7 columns):\n",
      " #   Column        Non-Null Count  Dtype  \n",
      "---  ------        --------------  -----  \n",
      " 0   Kiosk ID      423 non-null    float64\n",
      " 1   Kiosk Name    423 non-null    object \n",
      " 2   Go Live Date  423 non-null    object \n",
      " 3   Region        421 non-null    object \n",
      " 4   Status        423 non-null    object \n",
      " 5   Latitude      423 non-null    float64\n",
      " 6   Longitude     423 non-null    float64\n",
      "dtypes: float64(3), object(4)\n",
      "memory usage: 23.5+ KB\n"
     ]
    }
   ],
   "source": [
    "station_df.info()"
   ]
  },
  {
   "cell_type": "code",
   "execution_count": 9,
   "id": "b81e317d-5da1-47ac-b58d-45286bd971d9",
   "metadata": {},
   "outputs": [
    {
     "data": {
      "text/html": [
       "<div>\n",
       "<style scoped>\n",
       "    .dataframe tbody tr th:only-of-type {\n",
       "        vertical-align: middle;\n",
       "    }\n",
       "\n",
       "    .dataframe tbody tr th {\n",
       "        vertical-align: top;\n",
       "    }\n",
       "\n",
       "    .dataframe thead th {\n",
       "        text-align: right;\n",
       "    }\n",
       "</style>\n",
       "<table border=\"1\" class=\"dataframe\">\n",
       "  <thead>\n",
       "    <tr style=\"text-align: right;\">\n",
       "      <th></th>\n",
       "      <th>Kiosk ID</th>\n",
       "      <th>Kiosk Name</th>\n",
       "      <th>Go Live Date</th>\n",
       "      <th>Region</th>\n",
       "      <th>Status</th>\n",
       "      <th>Latitude</th>\n",
       "      <th>Longitude</th>\n",
       "    </tr>\n",
       "  </thead>\n",
       "  <tbody>\n",
       "    <tr>\n",
       "      <th>0</th>\n",
       "      <td>3000.0</td>\n",
       "      <td>Virtual Station</td>\n",
       "      <td>7/7/2016</td>\n",
       "      <td>NaN</td>\n",
       "      <td>Active</td>\n",
       "      <td>0.00000</td>\n",
       "      <td>0.00000</td>\n",
       "    </tr>\n",
       "    <tr>\n",
       "      <th>421</th>\n",
       "      <td>4682.0</td>\n",
       "      <td>CicLAvia Meet the Hollywood's - West Hollywood...</td>\n",
       "      <td>8/18/2024</td>\n",
       "      <td>NaN</td>\n",
       "      <td>Active</td>\n",
       "      <td>34.08564</td>\n",
       "      <td>-118.38279</td>\n",
       "    </tr>\n",
       "    <tr>\n",
       "      <th>423</th>\n",
       "      <td>NaN</td>\n",
       "      <td>NaN</td>\n",
       "      <td>NaN</td>\n",
       "      <td>NaN</td>\n",
       "      <td>NaN</td>\n",
       "      <td>NaN</td>\n",
       "      <td>NaN</td>\n",
       "    </tr>\n",
       "    <tr>\n",
       "      <th>424</th>\n",
       "      <td>NaN</td>\n",
       "      <td>NaN</td>\n",
       "      <td>NaN</td>\n",
       "      <td>NaN</td>\n",
       "      <td>NaN</td>\n",
       "      <td>NaN</td>\n",
       "      <td>NaN</td>\n",
       "    </tr>\n",
       "    <tr>\n",
       "      <th>425</th>\n",
       "      <td>NaN</td>\n",
       "      <td>NaN</td>\n",
       "      <td>NaN</td>\n",
       "      <td>NaN</td>\n",
       "      <td>NaN</td>\n",
       "      <td>NaN</td>\n",
       "      <td>NaN</td>\n",
       "    </tr>\n",
       "    <tr>\n",
       "      <th>426</th>\n",
       "      <td>NaN</td>\n",
       "      <td>NaN</td>\n",
       "      <td>NaN</td>\n",
       "      <td>NaN</td>\n",
       "      <td>NaN</td>\n",
       "      <td>NaN</td>\n",
       "      <td>NaN</td>\n",
       "    </tr>\n",
       "    <tr>\n",
       "      <th>427</th>\n",
       "      <td>NaN</td>\n",
       "      <td>NaN</td>\n",
       "      <td>NaN</td>\n",
       "      <td>NaN</td>\n",
       "      <td>NaN</td>\n",
       "      <td>NaN</td>\n",
       "      <td>NaN</td>\n",
       "    </tr>\n",
       "  </tbody>\n",
       "</table>\n",
       "</div>"
      ],
      "text/plain": [
       "     Kiosk ID                                         Kiosk Name Go Live Date  \\\n",
       "0      3000.0                                    Virtual Station     7/7/2016   \n",
       "421    4682.0  CicLAvia Meet the Hollywood's - West Hollywood...    8/18/2024   \n",
       "423       NaN                                                NaN          NaN   \n",
       "424       NaN                                                NaN          NaN   \n",
       "425       NaN                                                NaN          NaN   \n",
       "426       NaN                                                NaN          NaN   \n",
       "427       NaN                                                NaN          NaN   \n",
       "\n",
       "    Region   Status  Latitude  Longitude  \n",
       "0       NaN  Active   0.00000    0.00000  \n",
       "421     NaN  Active  34.08564 -118.38279  \n",
       "423     NaN     NaN       NaN        NaN  \n",
       "424     NaN     NaN       NaN        NaN  \n",
       "425     NaN     NaN       NaN        NaN  \n",
       "426     NaN     NaN       NaN        NaN  \n",
       "427     NaN     NaN       NaN        NaN  "
      ]
     },
     "execution_count": 9,
     "metadata": {},
     "output_type": "execute_result"
    }
   ],
   "source": [
    "station_df[station_df.isnull().any(axis=1)]"
   ]
  },
  {
   "cell_type": "code",
   "execution_count": 10,
   "id": "819a15ab-dd62-440c-af8b-adde1da9472f",
   "metadata": {},
   "outputs": [],
   "source": [
    "station_df = station_df.dropna(how=\"all\")"
   ]
  },
  {
   "cell_type": "code",
   "execution_count": 11,
   "id": "8a27cc59-3bb0-4566-ad3d-fee4639aff97",
   "metadata": {},
   "outputs": [
    {
     "data": {
      "text/html": [
       "<div>\n",
       "<style scoped>\n",
       "    .dataframe tbody tr th:only-of-type {\n",
       "        vertical-align: middle;\n",
       "    }\n",
       "\n",
       "    .dataframe tbody tr th {\n",
       "        vertical-align: top;\n",
       "    }\n",
       "\n",
       "    .dataframe thead th {\n",
       "        text-align: right;\n",
       "    }\n",
       "</style>\n",
       "<table border=\"1\" class=\"dataframe\">\n",
       "  <thead>\n",
       "    <tr style=\"text-align: right;\">\n",
       "      <th></th>\n",
       "      <th>Kiosk ID</th>\n",
       "      <th>Kiosk Name</th>\n",
       "      <th>Go Live Date</th>\n",
       "      <th>Region</th>\n",
       "      <th>Status</th>\n",
       "      <th>Latitude</th>\n",
       "      <th>Longitude</th>\n",
       "    </tr>\n",
       "  </thead>\n",
       "  <tbody>\n",
       "    <tr>\n",
       "      <th>0</th>\n",
       "      <td>3000.0</td>\n",
       "      <td>Virtual Station</td>\n",
       "      <td>7/7/2016</td>\n",
       "      <td>NaN</td>\n",
       "      <td>Active</td>\n",
       "      <td>0.00000</td>\n",
       "      <td>0.00000</td>\n",
       "    </tr>\n",
       "    <tr>\n",
       "      <th>421</th>\n",
       "      <td>4682.0</td>\n",
       "      <td>CicLAvia Meet the Hollywood's - West Hollywood...</td>\n",
       "      <td>8/18/2024</td>\n",
       "      <td>NaN</td>\n",
       "      <td>Active</td>\n",
       "      <td>34.08564</td>\n",
       "      <td>-118.38279</td>\n",
       "    </tr>\n",
       "  </tbody>\n",
       "</table>\n",
       "</div>"
      ],
      "text/plain": [
       "     Kiosk ID                                         Kiosk Name Go Live Date  \\\n",
       "0      3000.0                                    Virtual Station     7/7/2016   \n",
       "421    4682.0  CicLAvia Meet the Hollywood's - West Hollywood...    8/18/2024   \n",
       "\n",
       "    Region   Status  Latitude  Longitude  \n",
       "0       NaN  Active   0.00000    0.00000  \n",
       "421     NaN  Active  34.08564 -118.38279  "
      ]
     },
     "execution_count": 11,
     "metadata": {},
     "output_type": "execute_result"
    }
   ],
   "source": [
    "station_df[station_df.isnull().any(axis=1)]"
   ]
  },
  {
   "cell_type": "code",
   "execution_count": 12,
   "id": "c2459faf-5d33-4862-aff8-d4571f6a22b6",
   "metadata": {},
   "outputs": [],
   "source": [
    "## Due to encoding there are some inconsistency in the naming\n",
    "station_df.columns = [col_name.strip().lower().replace(\" \", \"_\") for col_name in station_df.columns]"
   ]
  },
  {
   "cell_type": "code",
   "execution_count": 13,
   "id": "d77f31b7-ccfe-41da-8034-ccd0c066b053",
   "metadata": {},
   "outputs": [
    {
     "name": "stdout",
     "output_type": "stream",
     "text": [
      "Index(['kiosk_id', 'kiosk_name', 'go_live_date', 'region', 'status',\n",
      "       'latitude', 'longitude'],\n",
      "      dtype='object')\n"
     ]
    }
   ],
   "source": [
    "print(station_df.columns)"
   ]
  },
  {
   "cell_type": "code",
   "execution_count": 14,
   "id": "d3145e49-6a6d-40fc-b747-5a0af8aa2c91",
   "metadata": {},
   "outputs": [
    {
     "data": {
      "text/plain": [
       "array([nan, 'DTLA', 'Port of LA', 'Pasadena', 'Westside', 'Free Bikes',\n",
       "       'North Hollywood'], dtype=object)"
      ]
     },
     "execution_count": 14,
     "metadata": {},
     "output_type": "execute_result"
    }
   ],
   "source": [
    "station_df[\"region\"].unique()"
   ]
  },
  {
   "cell_type": "code",
   "execution_count": 15,
   "id": "591fe184-e6d7-4277-843d-90f84c162526",
   "metadata": {},
   "outputs": [
    {
     "name": "stdout",
     "output_type": "stream",
     "text": [
      "['Not Available' 'DTLA' 'Port of LA' 'Pasadena' 'Westside' 'Free Bikes'\n",
      " 'North Hollywood']\n"
     ]
    }
   ],
   "source": [
    "station_df[\"region\"] = station_df[\"region\"].fillna(\"Not Available\")\n",
    "print(station_df[\"region\"].unique())"
   ]
  },
  {
   "cell_type": "markdown",
   "id": "8a99dd6b-e2fb-418c-8b53-8660ef020c22",
   "metadata": {},
   "source": [
    "**Summary**<br>\n",
    "- Station data requires other ecoding method from the widely used UTF-8.\n",
    "- Certain station region do not have available region. We will fill it with 'Not Available'."
   ]
  },
  {
   "cell_type": "markdown",
   "id": "70ca6ae8-22a9-42ea-9aef-d8b5a3e9630a",
   "metadata": {},
   "source": [
    "#### 1.2 Bike Data Analysis"
   ]
  },
  {
   "cell_type": "code",
   "execution_count": 16,
   "id": "d54fe48a-ec05-4c7b-ba8b-dd4a77c3901f",
   "metadata": {},
   "outputs": [],
   "source": [
    "def format_bike_id(id):\n",
    "    \"\"\"\n",
    "    Bike ID is normally an integer but in some cases they could contain special characters or a text.\n",
    "    \"\"\"\n",
    "    if id.isdigit():\n",
    "        return int(id)\n",
    "    return id"
   ]
  },
  {
   "cell_type": "code",
   "execution_count": 17,
   "id": "9fd9a377-7528-4230-85ec-59bb14d9ec2f",
   "metadata": {},
   "outputs": [],
   "source": [
    "unique_bike_df = pd.DataFrame(columns=[\"year\", \"quarter\", \"bike_id\", \"bike_type\"])\n",
    "unique_bholder_df = pd.DataFrame(columns=[\"passholder_type\"])\n",
    "\n",
    "## Loop through all files and append it to unique_bike_df\n",
    "for file in files_dir:\n",
    "    ## Data Tracker\n",
    "    quarter, year = file.split(\".\")[1].split(\"-\")[:1:-1]\n",
    "    \n",
    "    ## Read file\n",
    "    file_df = pd.read_csv(file, sep=\",\", low_memory=False) # All at once\n",
    "\n",
    "    ## 1. Bike Information\n",
    "    ## Grab Bike info\n",
    "    bike_df = file_df[[\"bike_id\", \"bike_type\"]].copy()\n",
    "    bike_df[\"year\"] = year\n",
    "    bike_df[\"quarter\"] = quarter\n",
    "\n",
    "    ## Filter to remove duplicates\n",
    "    bike_df = bike_df.drop_duplicates(subset=[\"bike_id\", \"bike_type\"]) # Assume that \"bike_id\" and \"bike_type\" are both unique\n",
    "\n",
    "    ## Add it to the list of unique bikes\n",
    "    unique_bike_df = pd.concat([unique_bike_df, bike_df], ignore_index=True)\n",
    "    unique_bike_df[\"bike_id\"] = unique_bike_df[\"bike_id\"].astype(str).apply(format_bike_id)\n",
    "    unique_bike_df[\"bike_type\"] = unique_bike_df[\"bike_type\"].astype(str)\n",
    "\n",
    "    ## Sorted and Drop Duplicates\n",
    "    unique_bike_df.sort_values(by=[\"bike_id\", \"bike_type\"], inplace=True)\n",
    "    unique_bike_df.drop_duplicates(subset=[\"bike_id\", \"bike_type\"], inplace=True)\n",
    "\n",
    "    ## 2. Passholder Type\n",
    "    passholder_df = file_df[[\"passholder_type\"]].copy()\n",
    "    passholder_df.drop_duplicates(subset=[\"passholder_type\"])\n",
    "    unique_bholder_df = pd.concat([unique_bholder_df, passholder_df], ignore_index=True)\n",
    "    unique_bholder_df.drop_duplicates(subset=[\"passholder_type\"], inplace=True)"
   ]
  },
  {
   "cell_type": "code",
   "execution_count": 18,
   "id": "a73bb294-da21-486e-8168-297409230d63",
   "metadata": {},
   "outputs": [
    {
     "data": {
      "text/html": [
       "<div>\n",
       "<style scoped>\n",
       "    .dataframe tbody tr th:only-of-type {\n",
       "        vertical-align: middle;\n",
       "    }\n",
       "\n",
       "    .dataframe tbody tr th {\n",
       "        vertical-align: top;\n",
       "    }\n",
       "\n",
       "    .dataframe thead th {\n",
       "        text-align: right;\n",
       "    }\n",
       "</style>\n",
       "<table border=\"1\" class=\"dataframe\">\n",
       "  <thead>\n",
       "    <tr style=\"text-align: right;\">\n",
       "      <th></th>\n",
       "      <th>year</th>\n",
       "      <th>quarter</th>\n",
       "      <th>bike_id</th>\n",
       "      <th>bike_type</th>\n",
       "    </tr>\n",
       "  </thead>\n",
       "  <tbody>\n",
       "    <tr>\n",
       "      <th>0</th>\n",
       "      <td>2022</td>\n",
       "      <td>q2</td>\n",
       "      <td>1349</td>\n",
       "      <td>standard</td>\n",
       "    </tr>\n",
       "    <tr>\n",
       "      <th>1</th>\n",
       "      <td>2022</td>\n",
       "      <td>q1</td>\n",
       "      <td>4727</td>\n",
       "      <td>standard</td>\n",
       "    </tr>\n",
       "    <tr>\n",
       "      <th>2</th>\n",
       "      <td>2022</td>\n",
       "      <td>q1</td>\n",
       "      <td>4823</td>\n",
       "      <td>standard</td>\n",
       "    </tr>\n",
       "    <tr>\n",
       "      <th>3</th>\n",
       "      <td>2022</td>\n",
       "      <td>q1</td>\n",
       "      <td>5006</td>\n",
       "      <td>standard</td>\n",
       "    </tr>\n",
       "    <tr>\n",
       "      <th>4</th>\n",
       "      <td>2022</td>\n",
       "      <td>q1</td>\n",
       "      <td>5016</td>\n",
       "      <td>standard</td>\n",
       "    </tr>\n",
       "    <tr>\n",
       "      <th>...</th>\n",
       "      <td>...</td>\n",
       "      <td>...</td>\n",
       "      <td>...</td>\n",
       "      <td>...</td>\n",
       "    </tr>\n",
       "    <tr>\n",
       "      <th>2335</th>\n",
       "      <td>2023</td>\n",
       "      <td>q1</td>\n",
       "      <td>15450a</td>\n",
       "      <td>smart</td>\n",
       "    </tr>\n",
       "    <tr>\n",
       "      <th>2336</th>\n",
       "      <td>2022</td>\n",
       "      <td>q1</td>\n",
       "      <td>15902a</td>\n",
       "      <td>smart</td>\n",
       "    </tr>\n",
       "    <tr>\n",
       "      <th>2337</th>\n",
       "      <td>2022</td>\n",
       "      <td>q1</td>\n",
       "      <td>16116a</td>\n",
       "      <td>smart</td>\n",
       "    </tr>\n",
       "    <tr>\n",
       "      <th>2338</th>\n",
       "      <td>2022</td>\n",
       "      <td>q1</td>\n",
       "      <td>16257a</td>\n",
       "      <td>smart</td>\n",
       "    </tr>\n",
       "    <tr>\n",
       "      <th>2339</th>\n",
       "      <td>2023</td>\n",
       "      <td>q3</td>\n",
       "      <td>TBlocker_Slash</td>\n",
       "      <td>standard</td>\n",
       "    </tr>\n",
       "  </tbody>\n",
       "</table>\n",
       "<p>2378 rows × 4 columns</p>\n",
       "</div>"
      ],
      "text/plain": [
       "      year quarter         bike_id bike_type\n",
       "0     2022      q2            1349  standard\n",
       "1     2022      q1            4727  standard\n",
       "2     2022      q1            4823  standard\n",
       "3     2022      q1            5006  standard\n",
       "4     2022      q1            5016  standard\n",
       "...    ...     ...             ...       ...\n",
       "2335  2023      q1          15450a     smart\n",
       "2336  2022      q1          15902a     smart\n",
       "2337  2022      q1          16116a     smart\n",
       "2338  2022      q1          16257a     smart\n",
       "2339  2023      q3  TBlocker_Slash  standard\n",
       "\n",
       "[2378 rows x 4 columns]"
      ]
     },
     "metadata": {},
     "output_type": "display_data"
    }
   ],
   "source": [
    "unique_bike_df.reset_index(drop=True)\n",
    "display(unique_bike_df)"
   ]
  },
  {
   "cell_type": "code",
   "execution_count": 19,
   "id": "add10a19-c588-461c-8253-608ad2ebe77f",
   "metadata": {},
   "outputs": [
    {
     "data": {
      "text/plain": [
       "array(['standard', 'electric', 'smart'], dtype=object)"
      ]
     },
     "execution_count": 19,
     "metadata": {},
     "output_type": "execute_result"
    }
   ],
   "source": [
    "unique_bike_df[\"bike_type\"].unique()"
   ]
  },
  {
   "cell_type": "code",
   "execution_count": 20,
   "id": "9e25fb66-c812-4e07-b61a-e7c11d76dbe5",
   "metadata": {},
   "outputs": [],
   "source": [
    "df_filtered = unique_bike_df[unique_bike_df[\"bike_id\"].str.contains(r\"[a-zA-Z]\", regex=True, na=False)]"
   ]
  },
  {
   "cell_type": "code",
   "execution_count": 21,
   "id": "e91deb16-946f-48d7-91c7-dcdc49190e3a",
   "metadata": {},
   "outputs": [
    {
     "name": "stdout",
     "output_type": "stream",
     "text": [
      "      year quarter         bike_id bike_type\n",
      "2334  2023      q4          15316a     smart\n",
      "2335  2023      q1          15450a     smart\n",
      "2336  2022      q1          15902a     smart\n",
      "2337  2022      q1          16116a     smart\n",
      "2338  2022      q1          16257a     smart\n",
      "2339  2023      q3  TBlocker_Slash  standard\n"
     ]
    }
   ],
   "source": [
    "print(df_filtered)"
   ]
  },
  {
   "cell_type": "code",
   "execution_count": 22,
   "id": "a4f329a4-85a2-4ead-8855-3240f5519eaa",
   "metadata": {},
   "outputs": [
    {
     "data": {
      "text/html": [
       "<div>\n",
       "<style scoped>\n",
       "    .dataframe tbody tr th:only-of-type {\n",
       "        vertical-align: middle;\n",
       "    }\n",
       "\n",
       "    .dataframe tbody tr th {\n",
       "        vertical-align: top;\n",
       "    }\n",
       "\n",
       "    .dataframe thead th {\n",
       "        text-align: right;\n",
       "    }\n",
       "</style>\n",
       "<table border=\"1\" class=\"dataframe\">\n",
       "  <thead>\n",
       "    <tr style=\"text-align: right;\">\n",
       "      <th></th>\n",
       "      <th>year</th>\n",
       "      <th>quarter</th>\n",
       "      <th>bike_id</th>\n",
       "      <th>bike_type</th>\n",
       "    </tr>\n",
       "  </thead>\n",
       "  <tbody>\n",
       "    <tr>\n",
       "      <th>2334</th>\n",
       "      <td>2023</td>\n",
       "      <td>q4</td>\n",
       "      <td>15316a</td>\n",
       "      <td>smart</td>\n",
       "    </tr>\n",
       "    <tr>\n",
       "      <th>2335</th>\n",
       "      <td>2023</td>\n",
       "      <td>q1</td>\n",
       "      <td>15450a</td>\n",
       "      <td>smart</td>\n",
       "    </tr>\n",
       "    <tr>\n",
       "      <th>2336</th>\n",
       "      <td>2022</td>\n",
       "      <td>q1</td>\n",
       "      <td>15902a</td>\n",
       "      <td>smart</td>\n",
       "    </tr>\n",
       "    <tr>\n",
       "      <th>2337</th>\n",
       "      <td>2022</td>\n",
       "      <td>q1</td>\n",
       "      <td>16116a</td>\n",
       "      <td>smart</td>\n",
       "    </tr>\n",
       "    <tr>\n",
       "      <th>2338</th>\n",
       "      <td>2022</td>\n",
       "      <td>q1</td>\n",
       "      <td>16257a</td>\n",
       "      <td>smart</td>\n",
       "    </tr>\n",
       "  </tbody>\n",
       "</table>\n",
       "</div>"
      ],
      "text/plain": [
       "      year quarter bike_id bike_type\n",
       "2334  2023      q4  15316a     smart\n",
       "2335  2023      q1  15450a     smart\n",
       "2336  2022      q1  15902a     smart\n",
       "2337  2022      q1  16116a     smart\n",
       "2338  2022      q1  16257a     smart"
      ]
     },
     "metadata": {},
     "output_type": "display_data"
    }
   ],
   "source": [
    "df_filtered_2 = unique_bike_df[unique_bike_df[\"bike_type\"]==\"smart\"]\n",
    "display(df_filtered_2)"
   ]
  },
  {
   "cell_type": "markdown",
   "id": "1e3581b7-fb36-4e14-a9e6-69ff51177da4",
   "metadata": {},
   "source": [
    "**Summary** <br>\n",
    "- Bike identifier contains both integer, a mix, and characters.\n",
    "- As for bike type there are only three types: standard, electric, and smart. Only bike with mized id, such as 15316a, is a smart bike.\n",
    "- One unique bike is 'TBlocker_Slash', which upon inspection in the original dataset represents testing run for the bike."
   ]
  },
  {
   "cell_type": "markdown",
   "id": "43bdbebb-ee07-4ab7-8540-ebd814daaa3d",
   "metadata": {},
   "source": [
    "#### 1.3 Trips"
   ]
  },
  {
   "cell_type": "code",
   "execution_count": 23,
   "id": "77acc3bb-b07a-4d8d-8c07-31e6164b79b1",
   "metadata": {},
   "outputs": [
    {
     "data": {
      "text/html": [
       "<div>\n",
       "<style scoped>\n",
       "    .dataframe tbody tr th:only-of-type {\n",
       "        vertical-align: middle;\n",
       "    }\n",
       "\n",
       "    .dataframe tbody tr th {\n",
       "        vertical-align: top;\n",
       "    }\n",
       "\n",
       "    .dataframe thead th {\n",
       "        text-align: right;\n",
       "    }\n",
       "</style>\n",
       "<table border=\"1\" class=\"dataframe\">\n",
       "  <thead>\n",
       "    <tr style=\"text-align: right;\">\n",
       "      <th></th>\n",
       "      <th>passholder_type</th>\n",
       "    </tr>\n",
       "  </thead>\n",
       "  <tbody>\n",
       "    <tr>\n",
       "      <th>0</th>\n",
       "      <td>One Day Pass</td>\n",
       "    </tr>\n",
       "    <tr>\n",
       "      <th>1</th>\n",
       "      <td>Walk-up</td>\n",
       "    </tr>\n",
       "    <tr>\n",
       "      <th>2</th>\n",
       "      <td>Annual Pass</td>\n",
       "    </tr>\n",
       "    <tr>\n",
       "      <th>3</th>\n",
       "      <td>Monthly Pass</td>\n",
       "    </tr>\n",
       "    <tr>\n",
       "      <th>4</th>\n",
       "      <td>NaN</td>\n",
       "    </tr>\n",
       "    <tr>\n",
       "      <th>5</th>\n",
       "      <td>Testing</td>\n",
       "    </tr>\n",
       "  </tbody>\n",
       "</table>\n",
       "</div>"
      ],
      "text/plain": [
       "  passholder_type\n",
       "0    One Day Pass\n",
       "1         Walk-up\n",
       "2     Annual Pass\n",
       "3    Monthly Pass\n",
       "4             NaN\n",
       "5         Testing"
      ]
     },
     "execution_count": 23,
     "metadata": {},
     "output_type": "execute_result"
    }
   ],
   "source": [
    "unique_bholder_df"
   ]
  },
  {
   "cell_type": "markdown",
   "id": "5e1f3ad6-75de-4c5b-a5e6-3386e885e48e",
   "metadata": {},
   "source": [
    "### 2. My Database Schema Planning"
   ]
  },
  {
   "cell_type": "markdown",
   "id": "51674f70-0412-4f3d-9d1d-a8acdd89cdc2",
   "metadata": {},
   "source": [
    "#### 2.1 Station Table"
   ]
  },
  {
   "cell_type": "code",
   "execution_count": 24,
   "id": "0e6040e9-68a1-447e-9821-a19fc31377f3",
   "metadata": {},
   "outputs": [
    {
     "data": {
      "text/plain": [
       "\"\\nCREATE TABLE IF NOT EXISTS stations(\\n    station_id INT,\\n    name VARCHAR(512) NOT NULL,\\n    live_date DATE,\\n    region ENUM('DTLA', 'Port of LA', 'Pasadena', 'Westside', 'Free Bikes', 'North Hollywood', 'Not Available') DEFAULT('Not Available'),\\n    status ENUM('Active', 'Inactive') NOT NULL,\\n    latitude DECIMAL(10,7),\\n    longitude DECIMAL (10,7),\\n    PRIMARY KEY (station_id)\\n);\\n\""
      ]
     },
     "execution_count": 24,
     "metadata": {},
     "output_type": "execute_result"
    }
   ],
   "source": [
    "\"\"\"\n",
    "CREATE TABLE IF NOT EXISTS stations(\n",
    "    station_id INT,\n",
    "    name VARCHAR(512) NOT NULL,\n",
    "    live_date DATE,\n",
    "    region ENUM('DTLA', 'Port of LA', 'Pasadena', 'Westside', 'Free Bikes', 'North Hollywood', 'Not Available') DEFAULT('Not Available'),\n",
    "    status ENUM('Active', 'Inactive') NOT NULL,\n",
    "    latitude DECIMAL(10,7),\n",
    "    longitude DECIMAL (10,7),\n",
    "    PRIMARY KEY (station_id)\n",
    ");\n",
    "\"\"\""
   ]
  },
  {
   "cell_type": "markdown",
   "id": "110d8764-2d91-4bed-a913-ae47da11c345",
   "metadata": {},
   "source": [
    "#### 2.2 Bike Table"
   ]
  },
  {
   "cell_type": "code",
   "execution_count": 25,
   "id": "5a523d78-6764-4259-b068-cb450ef1817c",
   "metadata": {},
   "outputs": [
    {
     "data": {
      "text/plain": [
       "\"\\nCREATE TABLE IF NOT EXISTS bikes(\\n    bike_id VARCHAR(128),\\n    bike_type ENUM('standard', 'electric', 'smart') NOT NULL DEFAULT('standard'),\\n    PRIMARY KEY (bike_id)\\n);\\n\""
      ]
     },
     "execution_count": 25,
     "metadata": {},
     "output_type": "execute_result"
    }
   ],
   "source": [
    "\"\"\"\n",
    "CREATE TABLE IF NOT EXISTS bikes(\n",
    "    bike_id VARCHAR(128),\n",
    "    bike_type ENUM('standard', 'electric', 'smart') NOT NULL DEFAULT('standard'),\n",
    "    PRIMARY KEY (bike_id)\n",
    ");\n",
    "\"\"\""
   ]
  },
  {
   "cell_type": "markdown",
   "id": "af11b8fe-9c50-4892-8e87-821431d81b02",
   "metadata": {},
   "source": [
    "#### 2.3 Trips Table"
   ]
  },
  {
   "cell_type": "code",
   "execution_count": 26,
   "id": "2af1b719-4ce1-4cee-8625-a4d0ca3ec00e",
   "metadata": {},
   "outputs": [
    {
     "data": {
      "text/plain": [
       "\"\\nCREATE TABLE IF NOT EXISTS trips(\\n    trip_id INT,\\n    bike_id VARCHAR(128) NOT NULL,\\n    start_station INT,\\n    end_station INT,\\n    start_time DATETIME,\\n    end_time DATETIME,\\n    duration INT,\\n    plan_duration INT CHECK (plan_duration >= 0),\\n    trip_route_category ENUM('Round Trip', 'One Way') NOT NULL,\\n    passholder_type ENUM('Walk-up', 'One Day Pass', 'Monthly Pass', 'Annual Pass', 'Testing', 'Not Available')  DEFAULT('Not Available'),\\n    PRIMARY KEY (trip_id),\\n    FOREIGN KEY (bike_id) REFERENCES bikes(bike_id),\\n    FOREIGN KEY (start_station) REFERENCES stations(station_id),\\n    FOREIGN KEY (end_station) REFERENCES stations(station_id)\\n);\\n\""
      ]
     },
     "execution_count": 26,
     "metadata": {},
     "output_type": "execute_result"
    }
   ],
   "source": [
    "\"\"\"\n",
    "CREATE TABLE IF NOT EXISTS trips(\n",
    "    trip_id INT,\n",
    "    bike_id VARCHAR(128) NOT NULL,\n",
    "    start_station INT,\n",
    "    end_station INT,\n",
    "    start_time DATETIME,\n",
    "    end_time DATETIME,\n",
    "    duration INT,\n",
    "    plan_duration INT CHECK (plan_duration >= 0),\n",
    "    trip_route_category ENUM('Round Trip', 'One Way') NOT NULL,\n",
    "    passholder_type ENUM('Walk-up', 'One Day Pass', 'Monthly Pass', 'Annual Pass', 'Testing', 'Not Available')  DEFAULT('Not Available'),\n",
    "    PRIMARY KEY (trip_id),\n",
    "    FOREIGN KEY (bike_id) REFERENCES bikes(bike_id),\n",
    "    FOREIGN KEY (start_station) REFERENCES stations(station_id),\n",
    "    FOREIGN KEY (end_station) REFERENCES stations(station_id)\n",
    ");\n",
    "\"\"\""
   ]
  },
  {
   "cell_type": "markdown",
   "id": "cb2bd3c7-eeae-40d6-b1d9-fa36b22ed999",
   "metadata": {},
   "source": [
    "#### 2.4 Loaded Data Tracker"
   ]
  },
  {
   "cell_type": "code",
   "execution_count": 27,
   "id": "d33d617b-8bbd-47c4-ad15-75e900331cba",
   "metadata": {},
   "outputs": [
    {
     "data": {
      "text/plain": [
       "\"\\nCREATE TABLE IF NOT EXISTS load_history(\\n    id IT AUTO_INCREMENT,\\n    file_name VARCHAR(256),\\n    load_stamp DATETIME DEFAULT CURRENT_TIMESTAMP(),\\n    row_count INT,\\n    load_status ENUM('Success', 'Failure') DEFAULT 'Success',\\n    PRIMARY KEY (id)\\n);\\n\""
      ]
     },
     "execution_count": 27,
     "metadata": {},
     "output_type": "execute_result"
    }
   ],
   "source": [
    "\"\"\"\n",
    "CREATE TABLE IF NOT EXISTS load_history(\n",
    "    id IT AUTO_INCREMENT,\n",
    "    file_name VARCHAR(256),\n",
    "    load_stamp DATETIME DEFAULT CURRENT_TIMESTAMP(),\n",
    "    row_count INT,\n",
    "    load_status ENUM('Success', 'Failure') DEFAULT 'Success',\n",
    "    PRIMARY KEY (id)\n",
    ");\n",
    "\"\"\""
   ]
  },
  {
   "cell_type": "markdown",
   "id": "688e08b7-5a90-42f8-8e0a-0bd07b0adf00",
   "metadata": {},
   "source": [
    "### 3. Data loading"
   ]
  },
  {
   "cell_type": "code",
   "execution_count": 132,
   "id": "8d0d71f1-af89-4857-aa3d-e1b5f02f9c02",
   "metadata": {},
   "outputs": [],
   "source": [
    "def create_tables(conn):\n",
    "    \"\"\"\n",
    "    Create table for stations, bikes, trips, and load_history.\n",
    "    \"\"\"\n",
    "    ### Define Table\n",
    "    load_history_table_schema = \"\"\"\n",
    "    CREATE TABLE IF NOT EXISTS load_history(\n",
    "        id INT AUTO_INCREMENT,\n",
    "        file_name VARCHAR(256),\n",
    "        load_stamp DATETIME DEFAULT CURRENT_TIMESTAMP(),\n",
    "        row_count INT,\n",
    "        load_status ENUM('Success', 'Failure') DEFAULT 'Success',\n",
    "        PRIMARY KEY (id)\n",
    "    );\n",
    "    \"\"\"\n",
    "    station_table_schema = \"\"\"\n",
    "    CREATE TABLE IF NOT EXISTS stations(\n",
    "        station_id INT,\n",
    "        name VARCHAR(512) NOT NULL,\n",
    "        live_date DATE,\n",
    "        region ENUM('DTLA', 'Port of LA', 'Pasadena', 'Westside', 'Free Bikes', 'North Hollywood', 'Not Available') DEFAULT('Not Available'),\n",
    "        status ENUM('Active', 'Inactive') NOT NULL,\n",
    "        latitude DECIMAL(10,7),\n",
    "        longitude DECIMAL (10,7),\n",
    "        PRIMARY KEY (station_id)\n",
    "    );\n",
    "    \"\"\"\n",
    "    bike_table_schema = \"\"\"\n",
    "    CREATE TABLE IF NOT EXISTS bikes(\n",
    "        bike_id VARCHAR(128),\n",
    "        bike_type ENUM('standard', 'electric', 'smart') NOT NULL DEFAULT('standard'),\n",
    "        PRIMARY KEY (bike_id)\n",
    "    );\n",
    "    \"\"\"\n",
    "    trips_table_schema = \"\"\"\n",
    "    CREATE TABLE IF NOT EXISTS trips(\n",
    "        trip_id INT,\n",
    "        bike_id VARCHAR(128) NOT NULL,\n",
    "        start_station INT,\n",
    "        end_station INT,\n",
    "        start_time DATETIME,\n",
    "        end_time DATETIME,\n",
    "        duration INT,\n",
    "        plan_duration INT CHECK (plan_duration >= 0),\n",
    "        trip_route_category ENUM('Round Trip', 'One Way') NOT NULL,\n",
    "        passholder_type ENUM('Walk-up', 'One Day Pass', 'Monthly Pass', 'Annual Pass', 'Testing', 'Not Available')  DEFAULT('Not Available'),\n",
    "        PRIMARY KEY (trip_id),\n",
    "        FOREIGN KEY (bike_id) REFERENCES bikes(bike_id),\n",
    "        FOREIGN KEY (start_station) REFERENCES stations(station_id),\n",
    "        FOREIGN KEY (end_station) REFERENCES stations(station_id)\n",
    "    );\n",
    "    \"\"\"\n",
    "    ### Connect and create tables\n",
    "    db_cursor = conn.cursor()\n",
    "    db_cursor.execute(load_history_table_schema)\n",
    "    db_cursor.execute(station_table_schema)\n",
    "    db_cursor.execute(bike_table_schema)\n",
    "    db_cursor.execute(trips_table_schema)\n",
    "    conn.commit()\n",
    "    db_cursor.close()\n",
    "\n",
    "def update_load_history(conn, fname, nrows):\n",
    "    insert_file_name_sql = \"\"\"\n",
    "    INSERT IGNORE INTO load_history (file_name, load_stamp, row_count, load_status)\n",
    "    VALUES (%s, %s, %s, %s);\n",
    "    \"\"\"\n",
    "    ## Define Values\n",
    "    db_cursor = conn.cursor()\n",
    "    dt_now = datetime.now()\n",
    "    load_stamp = dt_now.strftime(\"%Y-%m-%d %H:%M:%S\")\n",
    "\n",
    "    ## Add\n",
    "    db_cursor.execute(\n",
    "        insert_file_name_sql,\n",
    "        (fname, load_stamp, nrows, 'Success')\n",
    "    )\n",
    "    \n",
    "    conn.commit()\n",
    "    db_cursor.close()\n",
    "    \n",
    "\n",
    "def insert_stations_data(conn, df):\n",
    "    insert_station_sql = \"\"\"\n",
    "    INSERT IGNORE INTO stations (station_id, name, live_date, region, status, latitude, longitude) \n",
    "    VALUES (%s, %s, %s, %s, %s, %s, %s)\n",
    "    \"\"\"\n",
    "    ## Define Values\n",
    "    station_records = []\n",
    "    clone_df = df.copy()\n",
    "    print(\"Connection Status:\", conn.is_connected())\n",
    "    db_cursor = conn.cursor()\n",
    "\n",
    "    ## Get all the stations data\n",
    "    for idx, record in clone_df.iterrows():\n",
    "        station_id = int(record[\"station_id\"]) if record.get(\"station_id\") else None\n",
    "        name = str(record.get(\"name\", None))\n",
    "        live_date = record.get(\"live_date\" ,None)\n",
    "        region = str(record.get(\"region\", \"Not Available\"))\n",
    "        status = str(record[\"status\"]) if record.get(\"status\") else \"Active\"\n",
    "        latitude = float(record[\"latitude\"]) if record.get(\"latitude\") else None\n",
    "        longitude = float(record[\"longitude\"]) if record.get(\"longitude\") else None\n",
    "\n",
    "        ## Reformat date\n",
    "        dt_obj = pd.to_datetime(live_date, format=\"%m/%d/%Y\")\n",
    "        live_date = dt_obj.strftime(\"%Y-%m-%d %H:%M:%S\") # String\n",
    "\n",
    "        ## Update record\n",
    "        station_records.append(\n",
    "            (station_id, name, live_date, region, status, latitude, longitude)\n",
    "        )\n",
    "\n",
    "    ## Insert Combined Data into the Table: https://dev.mysql.com/doc/connectors/en/connector-python-api-mysqlcursor-executemany.html\n",
    "    db_cursor.executemany(\n",
    "        insert_station_sql,\n",
    "        station_records\n",
    "    )\n",
    "    conn.commit()\n",
    "    db_cursor.close()\n",
    "\n",
    "def insert_bikes_data(conn, df):\n",
    "    insert_bike_sql = \"\"\"\n",
    "    INSERT IGNORE INTO bikes (bike_id, bike_type)\n",
    "    VALUES (%s, %s)\n",
    "    \"\"\"\n",
    "\n",
    "    ## Define Values\n",
    "    bike_records = []\n",
    "    clone_df = df.copy()\n",
    "    db_cursor = conn.cursor()\n",
    "\n",
    "    ## Bikes Data\n",
    "    for idx, record in clone_df.iterrows():\n",
    "        bike_id = str(record[\"bike_id\"]).strip()\n",
    "        bike_type = str(record.get(\"bike_type\", None))\n",
    "\n",
    "        ## Update record\n",
    "        bike_records.append(\n",
    "            (bike_id, bike_type)\n",
    "        )\n",
    "\n",
    "    ## Insert into table\n",
    "    db_cursor.executemany(\n",
    "        insert_bike_sql,\n",
    "        bike_records\n",
    "    )\n",
    "    conn.commit()\n",
    "    db_cursor.close()\n",
    "\n",
    "def get_stations(conn):\n",
    "    db_cursor = conn.cursor()\n",
    "    ## Get a list of all stations from DB\n",
    "    db_cursor.execute(\n",
    "        \"\"\"\n",
    "        SELECT station_id\n",
    "        FROM stations;\n",
    "        \"\"\"\n",
    "    )\n",
    "    stations = [row[0] for row in db_cursor.fetchall()]\n",
    "    db_cursor.close()\n",
    "    return stations\n",
    "\n",
    "def validate_station(stations, station):\n",
    "    if station in stations:\n",
    "        return True\n",
    "    else:\n",
    "        return False\n",
    "\n",
    "def insert_trips_data(conn, df):\n",
    "    insert_trip_sql = \"\"\"\n",
    "    INSERT INTO trips (trip_id, bike_id, start_station, end_station, start_time, end_time, duration, plan_duration, trip_route_category, passholder_type)\n",
    "    VALUES (%s, %s, %s, %s, %s, %s, %s, %s, %s, %s)\n",
    "    \"\"\"\n",
    "    \n",
    "    ## Define Values\n",
    "    trip_records = []\n",
    "    clone_df = df.copy()\n",
    "    db_cursor = conn.cursor()\n",
    "\n",
    "    ## Get stations name for validation\n",
    "    stations = get_stations(db_conn)\n",
    "\n",
    "    ## Trips Data\n",
    "    for idx, record in clone_df.iterrows():\n",
    "        trip_id = int(record[\"trip_id\"])\n",
    "        bike_id = str(format_bike_id(str(record[\"bike_id\"]))) # string \n",
    "        start_station = int(record[\"start_station\"]) if record.get(\"start_station\") else None\n",
    "        end_station = int(record[\"end_station\"]) if record.get(\"end_station\") else None\n",
    "        start_time = record.get(\"start_time\", None)\n",
    "        end_time = record.get(\"end_time\", None)\n",
    "        duration = int(record[\"duration\"]) if record.get(\"duration\") else 0\n",
    "        plan_duration = int(record[\"plan_duration\"]) if record.get(\"plan_duration\") else 0\n",
    "        trip_route_category = str(record.get(\"trip_route_category\", \"One Way\"))\n",
    "        passholder_type = record.get(\"passholder_type\") or \"Not Available\"\n",
    "\n",
    "        ## Reformat date\n",
    "        start_dt_obj = pd.to_datetime(start_time, format=\"%m/%d/%Y %H:%M\")\n",
    "        start_time = start_dt_obj.strftime(\"%Y-%m-%d %H:%M:%S\") # String\n",
    "        end_dt_obj = pd.to_datetime(end_time, format=\"%m/%d/%Y %H:%M\")\n",
    "        end_time = end_dt_obj.strftime(\"%Y-%m-%d %H:%M:%S\") # String\n",
    "\n",
    "        ## Skip record if it is not in stations\n",
    "        if validate_station(stations, start_station) and validate_station(stations, end_station):\n",
    "            trip_records.append(\n",
    "                (trip_id, bike_id, start_station, end_station, start_time, end_time, duration, plan_duration, trip_route_category, passholder_type)\n",
    "            )\n",
    "\n",
    "    ## Insert into table\n",
    "    db_cursor.executemany(\n",
    "        insert_trip_sql,\n",
    "        trip_records\n",
    "    )\n",
    "    conn.commit()\n",
    "    db_cursor.close()"
   ]
  },
  {
   "cell_type": "code",
   "execution_count": 133,
   "id": "4bb95891-fe24-43c5-afa5-33faab03b6e8",
   "metadata": {},
   "outputs": [],
   "source": [
    "def check_loaded_status(conn, fname):\n",
    "    \"\"\"\n",
    "    Function to check if the file has already been loaded or not.\n",
    "    If not it will log the file name into the history table and return False.\n",
    "    \"\"\"\n",
    "    db_cursor = conn.cursor()\n",
    "\n",
    "    ## Get the list of filenames\n",
    "    db_cursor.execute(\n",
    "        \"\"\"\n",
    "        SELECT file_name\n",
    "        FROM load_history\n",
    "        \"\"\"\n",
    "    )\n",
    "    entries = db_cursor.fetchall() # tuple list\n",
    "    loaded_fnames = [entry[0] for entry in entries] # get first element of tuple in a list\n",
    "    if (not fname) or (fname not in loaded_fnames):\n",
    "        db_cursor.close()\n",
    "        ## Loaded = False\n",
    "        return False\n",
    "    else:\n",
    "        print(f\"This {fname} file has already loaded in this database.\")\n",
    "        db_cursor.close()\n",
    "        \n",
    "        ## Loaded = True\n",
    "        return True "
   ]
  },
  {
   "cell_type": "code",
   "execution_count": 143,
   "id": "4bca20f1-dd8c-4b2a-9af4-b8c5fffd552e",
   "metadata": {},
   "outputs": [],
   "source": [
    "load_dotenv()\n",
    "MySQL_SECRET = os.getenv(\"MySQL_ROOT_PASS\")"
   ]
  },
  {
   "cell_type": "code",
   "execution_count": 144,
   "id": "91d37e2a-b42f-498a-a16e-ea21f083e34c",
   "metadata": {},
   "outputs": [
    {
     "name": "stdout",
     "output_type": "stream",
     "text": [
      "Connected: True\n"
     ]
    }
   ],
   "source": [
    "import mysql.connector as sql\n",
    "\n",
    "### Connect to MySQL\n",
    "db_conn = sql.connect(\n",
    "    host=\"localhost\",\n",
    "    user=\"root\",\n",
    "    password=MySQL_SECRET,\n",
    "    use_pure=True\n",
    ")\n",
    "\n",
    "print(\"Connected:\", db_conn.is_connected())"
   ]
  },
  {
   "cell_type": "code",
   "execution_count": 145,
   "id": "f98aa193-5e3c-4617-845c-e755bbc6207b",
   "metadata": {},
   "outputs": [
    {
     "name": "stdout",
     "output_type": "stream",
     "text": [
      "Databases on this MySQL Server:\n",
      "bike_share\n",
      "information_schema\n",
      "mysql\n",
      "performance_schema\n",
      "sakila\n",
      "sys\n",
      "world\n"
     ]
    }
   ],
   "source": [
    "cursor = db_conn.cursor()\n",
    "cursor.execute(\"SHOW DATABASES;\")\n",
    "databases = cursor.fetchall()\n",
    "print(\"Databases on this MySQL Server:\")\n",
    "for db in databases:\n",
    "    print(db[0])"
   ]
  },
  {
   "cell_type": "code",
   "execution_count": 103,
   "id": "11518a7e-f1b9-4789-a09c-86e3bbb9e9f2",
   "metadata": {},
   "outputs": [],
   "source": [
    "cursor.execute(\n",
    "    \"\"\"\n",
    "    DROP DATABASE IF EXISTS bike_share;\n",
    "    \"\"\"\n",
    ")"
   ]
  },
  {
   "cell_type": "code",
   "execution_count": 117,
   "id": "402ab84d-ff8d-40dc-95e6-b7171b6b6354",
   "metadata": {},
   "outputs": [],
   "source": [
    "cursor.execute(\n",
    "    \"\"\"\n",
    "    CREATE DATABASE IF NOT EXISTS bike_share;\n",
    "    \"\"\"\n",
    ")\n",
    "cursor.execute(\n",
    "    \"\"\"\n",
    "    USE bike_share;\n",
    "    \"\"\"\n",
    ")"
   ]
  },
  {
   "cell_type": "code",
   "execution_count": 118,
   "id": "1999f48f-cf85-4424-953c-36a968b58bbc",
   "metadata": {},
   "outputs": [
    {
     "name": "stdout",
     "output_type": "stream",
     "text": [
      "Current database is: ('bike_share',)\n"
     ]
    }
   ],
   "source": [
    "cursor.execute(\"SELECT DATABASE();\")\n",
    "current_db = cursor.fetchone()\n",
    "print(\"Current database is:\", current_db)"
   ]
  },
  {
   "cell_type": "code",
   "execution_count": 119,
   "id": "e2d8b304-c53f-4325-aa5e-9c8484818576",
   "metadata": {},
   "outputs": [],
   "source": [
    "create_tables(db_conn) # create tables"
   ]
  },
  {
   "cell_type": "code",
   "execution_count": 107,
   "id": "4f426506-646c-4aa2-9b8d-5d7838f11221",
   "metadata": {},
   "outputs": [],
   "source": [
    "### Format Station Dataframe\n",
    "station_df.head(5)\n",
    "station_df = station_df.rename(\n",
    "    columns={\n",
    "        \"kiosk_id\": \"station_id\", \n",
    "        \"kiosk_name\": \"name\",\n",
    "        \"go_live_date\": \"live_date\",\n",
    "        \"region\": \"region\",\n",
    "        \"status\": \"status\",\n",
    "        \"latitude\": \"latitude\",\n",
    "        \"longitude\": \"longitude\"\n",
    "    }\n",
    ")"
   ]
  },
  {
   "cell_type": "code",
   "execution_count": 108,
   "id": "ae73e782-e553-41e5-b075-e4708b3ce0f6",
   "metadata": {},
   "outputs": [
    {
     "name": "stdout",
     "output_type": "stream",
     "text": [
      "Connection Status: True\n"
     ]
    }
   ],
   "source": [
    "### Load Stations Table\n",
    "insert_stations_data(db_conn, station_df)"
   ]
  },
  {
   "cell_type": "code",
   "execution_count": 109,
   "id": "24a019c1-6a3d-4a0b-9be8-d4eedd63d5fd",
   "metadata": {},
   "outputs": [
    {
     "data": {
      "text/html": [
       "<div>\n",
       "<style scoped>\n",
       "    .dataframe tbody tr th:only-of-type {\n",
       "        vertical-align: middle;\n",
       "    }\n",
       "\n",
       "    .dataframe tbody tr th {\n",
       "        vertical-align: top;\n",
       "    }\n",
       "\n",
       "    .dataframe thead th {\n",
       "        text-align: right;\n",
       "    }\n",
       "</style>\n",
       "<table border=\"1\" class=\"dataframe\">\n",
       "  <thead>\n",
       "    <tr style=\"text-align: right;\">\n",
       "      <th></th>\n",
       "      <th>bike_id</th>\n",
       "      <th>bike_type</th>\n",
       "    </tr>\n",
       "  </thead>\n",
       "  <tbody>\n",
       "    <tr>\n",
       "      <th>0</th>\n",
       "      <td>1349</td>\n",
       "      <td>standard</td>\n",
       "    </tr>\n",
       "    <tr>\n",
       "      <th>1</th>\n",
       "      <td>4727</td>\n",
       "      <td>standard</td>\n",
       "    </tr>\n",
       "    <tr>\n",
       "      <th>2</th>\n",
       "      <td>4823</td>\n",
       "      <td>standard</td>\n",
       "    </tr>\n",
       "    <tr>\n",
       "      <th>3</th>\n",
       "      <td>5006</td>\n",
       "      <td>standard</td>\n",
       "    </tr>\n",
       "    <tr>\n",
       "      <th>4</th>\n",
       "      <td>5016</td>\n",
       "      <td>standard</td>\n",
       "    </tr>\n",
       "    <tr>\n",
       "      <th>...</th>\n",
       "      <td>...</td>\n",
       "      <td>...</td>\n",
       "    </tr>\n",
       "    <tr>\n",
       "      <th>2335</th>\n",
       "      <td>15450a</td>\n",
       "      <td>smart</td>\n",
       "    </tr>\n",
       "    <tr>\n",
       "      <th>2336</th>\n",
       "      <td>15902a</td>\n",
       "      <td>smart</td>\n",
       "    </tr>\n",
       "    <tr>\n",
       "      <th>2337</th>\n",
       "      <td>16116a</td>\n",
       "      <td>smart</td>\n",
       "    </tr>\n",
       "    <tr>\n",
       "      <th>2338</th>\n",
       "      <td>16257a</td>\n",
       "      <td>smart</td>\n",
       "    </tr>\n",
       "    <tr>\n",
       "      <th>2339</th>\n",
       "      <td>TBlocker_Slash</td>\n",
       "      <td>standard</td>\n",
       "    </tr>\n",
       "  </tbody>\n",
       "</table>\n",
       "<p>2378 rows × 2 columns</p>\n",
       "</div>"
      ],
      "text/plain": [
       "             bike_id bike_type\n",
       "0               1349  standard\n",
       "1               4727  standard\n",
       "2               4823  standard\n",
       "3               5006  standard\n",
       "4               5016  standard\n",
       "...              ...       ...\n",
       "2335          15450a     smart\n",
       "2336          15902a     smart\n",
       "2337          16116a     smart\n",
       "2338          16257a     smart\n",
       "2339  TBlocker_Slash  standard\n",
       "\n",
       "[2378 rows x 2 columns]"
      ]
     },
     "execution_count": 109,
     "metadata": {},
     "output_type": "execute_result"
    }
   ],
   "source": [
    "### Format bike data\n",
    "formatted_bike_df = unique_bike_df[[\"bike_id\", \"bike_type\"]]\n",
    "formatted_bike_df"
   ]
  },
  {
   "cell_type": "code",
   "execution_count": 110,
   "id": "5ab53d54-8c4f-463c-872b-996e02e1e3fd",
   "metadata": {},
   "outputs": [],
   "source": [
    "### load Bike ID Data\n",
    "insert_bikes_data(db_conn, formatted_bike_df)"
   ]
  },
  {
   "cell_type": "code",
   "execution_count": 134,
   "id": "2ddbb4c8-0a08-4b12-9075-1e3bb6894f81",
   "metadata": {},
   "outputs": [
    {
     "name": "stdout",
     "output_type": "stream",
     "text": [
      "This metro-trips-2022-q1 file has already loaded in this database.\n",
      "File metro-trips-2022-q1 is skipped.\n",
      "This metro-trips-2022-q2 file has already loaded in this database.\n",
      "File metro-trips-2022-q2 is skipped.\n",
      "This metro-trips-2022-q3 file has already loaded in this database.\n",
      "File metro-trips-2022-q3 is skipped.\n",
      "This metro-trips-2022-q4 file has already loaded in this database.\n",
      "File metro-trips-2022-q4 is skipped.\n",
      "This metro-trips-2023-q1 file has already loaded in this database.\n",
      "File metro-trips-2023-q1 is skipped.\n",
      "This metro-trips-2023-q2 file has already loaded in this database.\n",
      "File metro-trips-2023-q2 is skipped.\n",
      "This metro-trips-2023-q3 file has already loaded in this database.\n",
      "File metro-trips-2023-q3 is skipped.\n",
      "This metro-trips-2023-q4 file has already loaded in this database.\n",
      "File metro-trips-2023-q4 is skipped.\n",
      "This metro-trips-2024-q1 file has already loaded in this database.\n",
      "File metro-trips-2024-q1 is skipped.\n",
      "This metro-trips-2024-q2 file has already loaded in this database.\n",
      "File metro-trips-2024-q2 is skipped.\n",
      "This metro-trips-2024-q3 file has already loaded in this database.\n",
      "File metro-trips-2024-q3 is skipped.\n",
      "File metro-trips-2024-q4 is loaded.\n"
     ]
    }
   ],
   "source": [
    "## Sort Order of loading\n",
    "for file in files_dir:\n",
    "\n",
    "    ## Check if file is already loaded pass the file\n",
    "    fname = file.split(\"\\\\\")[3].split(\".\")[0]\n",
    "    if check_loaded_status(db_conn, fname) == True:\n",
    "        print(f\"File {fname} is skipped.\")\n",
    "        continue\n",
    "\n",
    "    ## Load and insert\n",
    "    file_df = pd.read_csv(file, sep=\",\", low_memory=False)\n",
    "    nrows = file_df.shape[0]\n",
    "    insert_trips_data(db_conn, file_df)\n",
    "\n",
    "    ## Update loaded files\n",
    "    update_load_history(db_conn, fname, nrows)\n",
    "\n",
    "    ## Update Status\n",
    "    print(f\"File {fname} is loaded.\")"
   ]
  },
  {
   "cell_type": "code",
   "execution_count": 146,
   "id": "bf9f93f5-c82b-496f-a4bc-9066172c293c",
   "metadata": {},
   "outputs": [],
   "source": [
    "db_conn.close()"
   ]
  },
  {
   "cell_type": "markdown",
   "id": "9e7b6522-9232-4dee-ba4c-800f9f20c29a",
   "metadata": {},
   "source": [
    "### 4. Debug Zone"
   ]
  },
  {
   "cell_type": "code",
   "execution_count": 126,
   "id": "eae09e50-7d6b-4b32-8712-e09db255b493",
   "metadata": {},
   "outputs": [],
   "source": [
    "### Debug Key error\n",
    "file_df = pd.read_csv(files_dir[-1], sep=\",\", low_memory=False)\n",
    "q4_2024 = file_df[\"end_station\"].astype(\"int\").unique()"
   ]
  },
  {
   "cell_type": "code",
   "execution_count": 130,
   "id": "e1c47675-c206-4aef-918f-21f317a237dd",
   "metadata": {},
   "outputs": [],
   "source": [
    "all_stations = list(station_df[\"station_id\"].astype(\"int\").unique())"
   ]
  },
  {
   "cell_type": "code",
   "execution_count": 131,
   "id": "cd29126a-d33c-4c43-801c-808a64a94c58",
   "metadata": {},
   "outputs": [
    {
     "name": "stdout",
     "output_type": "stream",
     "text": [
      "[4686, 4687, 4689]\n"
     ]
    }
   ],
   "source": [
    "result = [item for item in q4_2024 if item not in all_stations]\n",
    "print(result)"
   ]
  },
  {
   "cell_type": "code",
   "execution_count": null,
   "id": "3612a5a3-f950-424a-8439-aff3215fce95",
   "metadata": {},
   "outputs": [],
   "source": []
  }
 ],
 "metadata": {
  "kernelspec": {
   "display_name": "Python 3 (ipykernel)",
   "language": "python",
   "name": "python3"
  },
  "language_info": {
   "codemirror_mode": {
    "name": "ipython",
    "version": 3
   },
   "file_extension": ".py",
   "mimetype": "text/x-python",
   "name": "python",
   "nbconvert_exporter": "python",
   "pygments_lexer": "ipython3",
   "version": "3.10.12"
  }
 },
 "nbformat": 4,
 "nbformat_minor": 5
}
